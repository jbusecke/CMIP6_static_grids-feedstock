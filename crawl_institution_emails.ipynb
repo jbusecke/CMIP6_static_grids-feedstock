{
 "cells": [
  {
   "cell_type": "markdown",
   "id": "027685ce-6d16-4585-8685-a3802feeebd0",
   "metadata": {},
   "source": [
    "# Crawling datasets for contact emails\n",
    "\n",
    "In order to get as many native grid files into the cloud as possible I need to contact all modeling centers. \n",
    "\n",
    "I have not yet found a list of contact emails, so here I tried to crawl our existing stores for contact metadata.\n",
    "\n",
    "*Executed on the pangeo deployment"
   ]
  },
  {
   "cell_type": "code",
   "execution_count": 20,
   "id": "f061a350-fa76-479d-bd04-eb1ae7d3a780",
   "metadata": {},
   "outputs": [],
   "source": [
    "from cmip6_preprocessing.utils import google_cmip_col\n",
    "import xarray as xr"
   ]
  },
  {
   "cell_type": "code",
   "execution_count": 2,
   "id": "a01a89f8-f4af-4e0a-a104-e9ca4deb7a33",
   "metadata": {},
   "outputs": [],
   "source": [
    "col = google_cmip_col()"
   ]
  },
  {
   "cell_type": "code",
   "execution_count": 17,
   "id": "31db40ec-f729-48e2-947e-1d8dafe90a33",
   "metadata": {},
   "outputs": [
    {
     "data": {
      "text/plain": [
       "36"
      ]
     },
     "execution_count": 17,
     "metadata": {},
     "output_type": "execute_result"
    }
   ],
   "source": [
    "institutions = sorted(col.df['institution_id'].unique())\n",
    "len(institutions)"
   ]
  },
  {
   "cell_type": "code",
   "execution_count": 40,
   "id": "76a6dde5-c021-4c06-9c8b-df33998ec967",
   "metadata": {},
   "outputs": [
    {
     "name": "stdout",
     "output_type": "stream",
     "text": [
      "========AS-RCEC========\n",
      "AS-RCEC (leelupin@gate.sinica.edu.tw) models with ocean output: ['TaiESM1']\n",
      "\n",
      "========AWI========\n",
      "AWI (None) models with ocean output: ['AWI-CM-1-1-MR', 'AWI-ESM-1-1-LR']\n",
      "\n",
      "========BCC========\n",
      "BCC (twwu@cma.gov.cn) models with ocean output: ['BCC-CSM2-MR', 'BCC-ESM1']\n",
      "\n",
      "========CAMS========\n",
      "CAMS (rongxy@cma.gov.cn) models with ocean output: ['CAMS-CSM1-0']\n",
      "\n",
      "========CAS========\n",
      "CAS (linpf@mail.iap.ac.cn) models with ocean output: ['FGOALS-f3-L', 'FGOALS-g3', 'CAS-ESM2-0']\n",
      "\n",
      "========CCCR-IITM========\n",
      "CCCR-IITM (iitm-esm@tropmet.res.in) models with ocean output: ['IITM-ESM']\n",
      "\n",
      "========CCCma========\n",
      "CCCma (ec.cccma.info-info.ccmac.ec@canada.ca) models with ocean output: ['CanESM5', 'CanESM5-CanOE']\n",
      "\n",
      "========CMCC========\n",
      "CMCC (None) models with ocean output: ['CMCC-CM2-SR5', 'CMCC-CM2-HR4', 'CMCC-ESM2']\n",
      "\n",
      "========CNRM-CERFACS========\n",
      "CNRM-CERFACS (contact.cmip@meteo.fr) models with ocean output: ['CNRM-CM6-1', 'CNRM-ESM2-1', 'CNRM-CM6-1-HR']\n",
      "\n",
      "========CSIRO========\n"
     ]
    },
    {
     "name": "stderr",
     "output_type": "stream",
     "text": [
      "/srv/conda/envs/notebook/lib/python3.9/site-packages/xarray/coding/times.py:673: SerializationWarning: Unable to decode time axis into full numpy.datetime64 objects, continuing using cftime.datetime objects instead, reason: dates out of range\n",
      "  dtype = _decode_cf_datetime_dtype(data, units, calendar, self.use_cftime)\n",
      "/srv/conda/envs/notebook/lib/python3.9/site-packages/xarray/coding/times.py:144: SerializationWarning: Ambiguous reference date string: 101-01-01. The first value is assumed to be the year hence will be padded with zeros to remove the ambiguity (the padded reference date string is: 0101-01-01). To remove this message, remove the ambiguity by padding your reference date strings with zeros.\n",
      "  warnings.warn(warning_msg, SerializationWarning)\n",
      "/srv/conda/envs/notebook/lib/python3.9/site-packages/xarray/core/indexing.py:423: SerializationWarning: Unable to decode time axis into full numpy.datetime64 objects, continuing using cftime.datetime objects instead, reason: dates out of range\n",
      "  return np.asarray(array[self.key], dtype=None)\n"
     ]
    },
    {
     "name": "stdout",
     "output_type": "stream",
     "text": [
      "CSIRO (None) models with ocean output: ['ACCESS-ESM1-5']\n",
      "\n",
      "========CSIRO-ARCCSS========\n",
      "CSIRO-ARCCSS (None) models with ocean output: ['ACCESS-CM2']\n",
      "\n",
      "========DKRZ========\n",
      "DKRZ (cmip6-mpi-esm@dkrz.de) models with ocean output: ['MPI-ESM1-2-HR']\n",
      "\n",
      "========DWD========\n",
      "DWD (cmip6-mpi-esm@dkrz.de) models with ocean output: ['MPI-ESM1-2-HR']\n",
      "\n",
      "========E3SM-Project========\n",
      "E3SM-Project (bader2@llnl.gov) models with ocean output: ['E3SM-1-0', 'E3SM-1-1', 'E3SM-1-1-ECA']\n",
      "\n",
      "========EC-Earth-Consortium========\n",
      "EC-Earth-Consortium (cmip6-data@ec-earth.org) models with ocean output: ['EC-Earth3', 'EC-Earth3-Veg', 'EC-Earth3-AerChem', 'EC-Earth3-LR', 'EC-Earth3-Veg-LR', 'EC-Earth3-CC']\n",
      "\n",
      "========ECMWF========\n",
      "========FIO-QLNM========\n"
     ]
    },
    {
     "name": "stderr",
     "output_type": "stream",
     "text": [
      "/srv/conda/envs/notebook/lib/python3.9/site-packages/intake_esm/search.py:106: UserWarning: Query returned zero results.\n",
      "  warn(message)\n"
     ]
    },
    {
     "name": "stdout",
     "output_type": "stream",
     "text": [
      "FIO-QLNM (songroy@fio.org.cn) models with ocean output: ['FIO-ESM-2-0']\n",
      "\n",
      "========HAMMOZ-Consortium========\n",
      "HAMMOZ-Consortium (david.neubauer@env.ethz.ch) models with ocean output: ['MPI-ESM-1-2-HAM']\n",
      "\n",
      "========INM========\n",
      "INM (volodinev@gmail.com) models with ocean output: ['INM-CM4-8', 'INM-CM5-0']\n",
      "\n",
      "========IPSL========\n",
      "IPSL (ipsl-cmip6@listes.ipsl.fr) models with ocean output: ['IPSL-CM6A-LR', 'IPSL-CM5A2-INCA', 'IPSL-CM6A-LR-INCA']\n",
      "\n",
      "========KIOST========\n",
      "WHUUUT? ['yhokim@pknu.ac.kr', 'yhkimstar@gmail.com']\n",
      "KIOST (['yhokim@pknu.ac.kr', 'yhkimstar@gmail.com']) models with ocean output: ['KIOST-ESM']\n",
      "\n",
      "========MIROC========\n",
      "MIROC (None) models with ocean output: ['MIROC6', 'MIROC-ES2L']\n",
      "\n",
      "========MOHC========\n",
      "MOHC (None) models with ocean output: ['UKESM1-0-LL', 'HadGEM3-GC31-LL', 'HadGEM3-GC31-MM']\n",
      "\n",
      "========MPI-M========\n",
      "MPI-M (cmip6-mpi-esm@dkrz.de) models with ocean output: ['MPI-ESM1-2-LR', 'MPI-ESM1-2-HR', 'ICON-ESM-LR']\n",
      "\n",
      "========MRI========\n",
      "MRI (None) models with ocean output: ['MRI-ESM2-0']\n",
      "\n",
      "========NASA-GISS========\n",
      "NASA-GISS (cdkkl@giss.nasa.gov) models with ocean output: ['GISS-E2-1-G', 'GISS-E2-1-H', 'GISS-E2-1-G-CC', 'GISS-E2-2-G', 'GISS-E2-2-H']\n",
      "\n",
      "========NCAR========\n",
      "NCAR (cesm_cmip6@ucar.edu) models with ocean output: ['CESM2-WACCM', 'CESM2', 'CESM1-1-CAM5-CMIP5', 'CESM2-FV2', 'CESM2-WACCM-FV2']\n",
      "\n",
      "========NCC========\n",
      "NCC (noresm-ncc@met.no.) models with ocean output: ['NorESM2-LM', 'NorCPM1', 'NorESM1-F', 'NorESM2-MM']\n",
      "\n",
      "========NERC========\n",
      "NERC (None) models with ocean output: ['UKESM1-0-LL']\n",
      "\n",
      "========NIMS-KMA========\n",
      "NIMS-KMA (sunghm122@korea.kr) models with ocean output: ['KACE-1-0-G', 'UKESM1-0-LL']\n",
      "\n",
      "========NOAA-GFDL========\n",
      "NOAA-GFDL (gfdl.climate.model.info@noaa.gov) models with ocean output: ['GFDL-ESM4', 'GFDL-CM4', 'GFDL-ESM2M', 'GFDL-OM4p5B']\n",
      "\n",
      "========NUIST========\n",
      "NUIST (esmc@nuist.edu.cn) models with ocean output: ['NESM3']\n",
      "\n",
      "========RUBISCO========\n"
     ]
    },
    {
     "name": "stderr",
     "output_type": "stream",
     "text": [
      "/srv/conda/envs/notebook/lib/python3.9/site-packages/intake_esm/search.py:106: UserWarning: Query returned zero results.\n",
      "  warn(message)\n"
     ]
    },
    {
     "name": "stdout",
     "output_type": "stream",
     "text": [
      "========SNU========\n",
      "WHUUUT? ['sungsup@snu.ac.kr', 'sjh11556@snu.ac.kr']\n",
      "SNU (['sungsup@snu.ac.kr', 'sjh11556@snu.ac.kr']) models with ocean output: ['SAM0-UNICON']\n",
      "\n",
      "========THU========\n",
      "THU (yanluan@tsinghua.edu.cn) models with ocean output: ['CIESM']\n",
      "\n",
      "========UA========\n",
      "UA (GEOS-CMIP@email.arizona.edu) models with ocean output: ['MCM-UA-1-0']\n",
      "\n"
     ]
    }
   ],
   "source": [
    "for ins in institutions:\n",
    "    print(f\"========{ins}========\")\n",
    "    # find all ocean source_ids\n",
    "    cat_ins = col.search(institution_id=ins, table_id=['Omon'])\n",
    "    source_ids = cat_ins.df['source_id'].unique()\n",
    "    if len(source_ids)>0:\n",
    "        \n",
    "        # load a single output to get the email\n",
    "        store = cat_ins.df['zstore'].to_list()[0]\n",
    "        ds = xr.open_dataset(store, engine='zarr')\n",
    "        email = ds.attrs.get('contact', 'none_provided')\n",
    "        # extract email\n",
    "        email = [p for p in email.replace('(',' ').replace(')',' ').split(' ') if '@' in p]\n",
    "        if len(email)==1:\n",
    "            email = email[0]\n",
    "        elif len(email)>1:\n",
    "            print('WHUUUT?', email)\n",
    "        else:\n",
    "            email = None\n",
    "        print(f\"{ins} ({email}) models with ocean output: {list(source_ids)}\\n\")"
   ]
  }
 ],
 "metadata": {
  "kernelspec": {
   "display_name": "Python 3 (ipykernel)",
   "language": "python",
   "name": "python3"
  },
  "language_info": {
   "codemirror_mode": {
    "name": "ipython",
    "version": 3
   },
   "file_extension": ".py",
   "mimetype": "text/x-python",
   "name": "python",
   "nbconvert_exporter": "python",
   "pygments_lexer": "ipython3",
   "version": "3.9.13"
  }
 },
 "nbformat": 4,
 "nbformat_minor": 5
}
